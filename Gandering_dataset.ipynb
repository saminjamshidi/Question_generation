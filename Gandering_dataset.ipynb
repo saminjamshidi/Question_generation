{
  "cells": [
    {
      "cell_type": "markdown",
      "metadata": {
        "id": "view-in-github",
        "colab_type": "text"
      },
      "source": [
        "<a href=\"https://colab.research.google.com/github/saminjamshidi/Question_generation/blob/master/Gandering_dataset.ipynb\" target=\"_parent\"><img src=\"https://colab.research.google.com/assets/colab-badge.svg\" alt=\"Open In Colab\"/></a>"
      ]
    },
    {
      "cell_type": "code",
      "execution_count": 1,
      "metadata": {
        "colab": {
          "base_uri": "https://localhost:8080/"
        },
        "id": "tN49TcwDOU8l",
        "outputId": "98468885-056d-46af-ce8a-3598855b275b"
      },
      "outputs": [
        {
          "output_type": "stream",
          "name": "stdout",
          "text": [
            "Mounted at /content/drive\n"
          ]
        }
      ],
      "source": [
        "\n",
        "from google.colab import drive\n",
        "\n",
        "drive.mount('/content/drive')"
      ]
    },
    {
      "cell_type": "code",
      "source": [
        "train_data=[]\n",
        "train_loader=[]\n",
        "test_data=[]\n",
        "val_data=[]"
      ],
      "metadata": {
        "id": "MQdoZyv6qmXr"
      },
      "execution_count": 3,
      "outputs": []
    },
    {
      "cell_type": "code",
      "execution_count": 6,
      "metadata": {
        "id": "DuuAZCfPDT83"
      },
      "outputs": [],
      "source": [
        "import pickle\n",
        "\n",
        "\n",
        "for i in range(0,40):\n",
        "\n",
        "  with open('/content/drive/MyDrive/preprocess_v2/train_data'+str(i*1000)+'_'+str((i+1)*1000)+'.pkl', 'rb') as file:\n",
        "      train_data.append(pickle.load(file))\n",
        "  with open('/content/drive/MyDrive/preprocess_v2/test_data'+str(i*1000)+'_'+str((i+1)*1000)+'.pkl', 'rb') as file:\n",
        "      test_data.append(pickle.load(file))\n",
        "\n",
        "  with open('/content/drive/MyDrive/preprocess_v2/val_data'+str(i*1000)+'_'+str((i+1)*1000)+'.pkl', 'rb') as file:\n",
        "      val_data.append(pickle.load(file))\n"
      ]
    },
    {
      "cell_type": "code",
      "source": [
        "for i in range(42,85):\n",
        "\n",
        "  with open('/content/drive/MyDrive/preprocess_v2/train_data'+str(i*1000)+'_'+str((i+1)*1000)+'.pkl', 'rb') as file:\n",
        "      train_data.append(pickle.load(file))\n",
        "  with open('/content/drive/MyDrive/preprocess_v2/test_data'+str(i*1000)+'_'+str((i+1)*1000)+'.pkl', 'rb') as file:\n",
        "      test_data.append(pickle.load(file))\n",
        "\n",
        "  with open('/content/drive/MyDrive/preprocess_v2/val_data'+str(i*1000)+'_'+str((i+1)*1000)+'.pkl', 'rb') as file:\n",
        "      val_data.append(pickle.load(file))\n"
      ],
      "metadata": {
        "id": "TxknIpcTP3I1"
      },
      "execution_count": 13,
      "outputs": []
    },
    {
      "cell_type": "code",
      "execution_count": 19,
      "metadata": {
        "colab": {
          "base_uri": "https://localhost:8080/"
        },
        "id": "SRb6rGoSPD3D",
        "outputId": "ac57d9c7-a4db-4217-d143-c197bd914cb0"
      },
      "outputs": [
        {
          "output_type": "execute_result",
          "data": {
            "text/plain": [
              "200"
            ]
          },
          "metadata": {},
          "execution_count": 19
        }
      ],
      "source": [
        "len(test_data[0])\n"
      ]
    },
    {
      "cell_type": "code",
      "source": [
        "test_loader=[]\n",
        "for i in range(0,124):\n",
        "  for j in range(0,200):\n",
        "    test_loader.append(test_data[i][j])"
      ],
      "metadata": {
        "id": "sl6bW7SIxqgL"
      },
      "execution_count": 20,
      "outputs": []
    },
    {
      "cell_type": "code",
      "source": [
        "len(test_loader)"
      ],
      "metadata": {
        "colab": {
          "base_uri": "https://localhost:8080/"
        },
        "id": "XpIdJPAj1bgI",
        "outputId": "0cc67ba3-ab19-49b7-fbe8-e1bf8aa13eaf"
      },
      "execution_count": 22,
      "outputs": [
        {
          "output_type": "execute_result",
          "data": {
            "text/plain": [
              "24800"
            ]
          },
          "metadata": {},
          "execution_count": 22
        }
      ]
    },
    {
      "cell_type": "code",
      "source": [
        "train_loader=[]\n",
        "for i in range(0,124):\n",
        "  for j in range(0,599):\n",
        "    train_loader.append(train_data[i][j])\n"
      ],
      "metadata": {
        "id": "rxUCqOQ7qvej"
      },
      "execution_count": 23,
      "outputs": []
    },
    {
      "cell_type": "code",
      "source": [
        "len(train_loader)"
      ],
      "metadata": {
        "colab": {
          "base_uri": "https://localhost:8080/"
        },
        "id": "D9-EL7Nm1t-x",
        "outputId": "60962e46-d632-45ae-e72f-3d0b169bc83a"
      },
      "execution_count": 27,
      "outputs": [
        {
          "output_type": "execute_result",
          "data": {
            "text/plain": [
              "74276"
            ]
          },
          "metadata": {},
          "execution_count": 27
        }
      ]
    },
    {
      "cell_type": "code",
      "source": [
        "val_loader=[]\n",
        "for i in range(0,124):\n",
        "  for j in range(0,200):\n",
        "\n",
        "    val_loader.append(val_data[i][j])"
      ],
      "metadata": {
        "id": "79SQhVBwybAz"
      },
      "execution_count": 29,
      "outputs": []
    },
    {
      "cell_type": "code",
      "source": [
        "len(val_loader)"
      ],
      "metadata": {
        "colab": {
          "base_uri": "https://localhost:8080/"
        },
        "id": "3-B8Bk0GtT23",
        "outputId": "6fc894b9-6fb5-4e20-b5b6-c252f0472c0a"
      },
      "execution_count": 31,
      "outputs": [
        {
          "output_type": "execute_result",
          "data": {
            "text/plain": [
              "24800"
            ]
          },
          "metadata": {},
          "execution_count": 31
        }
      ]
    },
    {
      "cell_type": "code",
      "source": [
        "with open('/content/drive/MyDrive/preprocess_v2/train_data.pkl', 'wb') as file:\n",
        "    pickle.dump(train_loader, file)\n",
        "\n",
        "with open('/content/drive/MyDrive/preprocess_v2/test_data.pkl', 'wb') as file:\n",
        "    pickle.dump(test_loader, file)\n",
        "\n",
        "with open('/content/drive/MyDrive/preprocess_v2/val_data.pkl', 'wb') as file:\n",
        "    pickle.dump(val_loader, file)\n"
      ],
      "metadata": {
        "id": "m_hyjjSZxrcl"
      },
      "execution_count": 32,
      "outputs": []
    }
  ],
  "metadata": {
    "colab": {
      "provenance": [],
      "authorship_tag": "ABX9TyNj9+0W/HVo5STlRX4Weqcy",
      "include_colab_link": true
    },
    "kernelspec": {
      "display_name": "Python 3",
      "name": "python3"
    },
    "language_info": {
      "name": "python"
    }
  },
  "nbformat": 4,
  "nbformat_minor": 0
}